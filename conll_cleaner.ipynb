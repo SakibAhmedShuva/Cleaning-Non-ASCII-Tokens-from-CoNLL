{
 "cells": [
  {
   "cell_type": "code",
   "execution_count": 3,
   "metadata": {},
   "outputs": [],
   "source": [
    "import re\n",
    "\n",
    "def clean_lines_with_gaps(file_path):\n",
    "    cleaned_lines = []\n",
    "    with open(file_path, 'r', encoding='utf-8', errors='replace') as file:\n",
    "        lines = file.readlines()\n",
    "    \n",
    "    for line in lines:\n",
    "        # Check if line is either empty or contains only ASCII characters\n",
    "        if line.strip() == '' or re.match(r'^[\\x00-\\x7F]+$', line.strip()):\n",
    "            cleaned_lines.append(line)  # Keep the line\n",
    "\n",
    "    # Save cleaned lines to a new file\n",
    "    with open('cleaned_file_with_gaps.conll', 'w', encoding='utf-8') as file:\n",
    "        file.writelines(cleaned_lines)\n",
    "    \n",
    "    print(\"Non-ASCII tokens removed successfully\")"
   ]
  },
  {
   "cell_type": "code",
   "execution_count": 4,
   "metadata": {},
   "outputs": [
    {
     "name": "stdout",
     "output_type": "stream",
     "text": [
      "Non-ASCII tokens removed successfully\n"
     ]
    }
   ],
   "source": [
    "# Use the path to your .conll file here\n",
    "clean_lines_with_gaps(r'd:\\OneDrive - Personal\\DS\\My Scripts\\CoNLL\\updated_conll_file.conll')"
   ]
  },
  {
   "cell_type": "code",
   "execution_count": null,
   "metadata": {},
   "outputs": [],
   "source": []
  }
 ],
 "metadata": {
  "kernelspec": {
   "display_name": "Python 3",
   "language": "python",
   "name": "python3"
  },
  "language_info": {
   "codemirror_mode": {
    "name": "ipython",
    "version": 3
   },
   "file_extension": ".py",
   "mimetype": "text/x-python",
   "name": "python",
   "nbconvert_exporter": "python",
   "pygments_lexer": "ipython3",
   "version": "3.12.7"
  }
 },
 "nbformat": 4,
 "nbformat_minor": 2
}
